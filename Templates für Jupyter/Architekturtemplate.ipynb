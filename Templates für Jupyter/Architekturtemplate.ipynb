{
 "cells": [
  {
   "cell_type": "markdown",
   "metadata": {},
   "source": [
    "#\n",
    "\n",
    "  \n",
    "\n",
    "**Über arc42**\n",
    "\n",
    "  \n",
    "\n",
    "arc42, das Template zur Dokumentation von Software- und\n",
    "\n",
    "Systemarchitekturen.\n",
    "\n",
    "  \n",
    "\n",
    "Template Version 8.2 DE. (basiert auf AsciiDoc Version), Januar 2023\n",
    "\n",
    "  \n",
    "\n",
    "Created, maintained and © by Dr. Peter Hruschka, Dr. Gernot Starke and\n",
    "\n",
    "contributors. Siehe <https://arc42.org>."
   ]
  },
  {
   "cell_type": "markdown",
   "metadata": {},
   "source": [
    "# Einführung und Ziele {#section-introduction-and-goals}\n",
    "\n",
    "## Aufgabenstellung {#_aufgabenstellung}\n",
    "\n",
    "## Qualitätsziele {#_qualit_tsziele}\n",
    "\n",
    "## Stakeholder {#_stakeholder}\n",
    "\n",
    "+-----------------+-----------------+-----------------------------------+\n",
    "| Rolle           | Kontakt         | Erwartungshaltung                 |\n",
    "+=================+=================+===================================+\n",
    "| *\\<Rolle-1>*    | *\\<Kontakt-1>*  | *\\<Erwartung-1>*                  |\n",
    "+-----------------+-----------------+-----------------------------------+\n",
    "| *\\<Rolle-2>*    | *\\<Kontakt-2>*  | *\\<Erwartung-2>*                  |\n",
    "+-----------------+-----------------+-----------------------------------+"
   ]
  },
  {
   "cell_type": "markdown",
   "metadata": {},
   "source": [
    "# Randbedingungen {#section-architecture-constraints}"
   ]
  },
  {
   "cell_type": "markdown",
   "metadata": {},
   "source": [
    "# Kontextabgrenzung {#section-system-scope-and-context}\n",
    "\n",
    "## Fachlicher Kontext {#_fachlicher_kontext}\n",
    "\n",
    "**\\<Diagramm und/oder Tabelle>**\n",
    "\n",
    "**\\<optional: Erläuterung der externen fachlichen Schnittstellen>**\n",
    "\n",
    "## Technischer Kontext {#_technischer_kontext}\n",
    "\n",
    "**\\<Diagramm oder Tabelle>**\n",
    "\n",
    "**\\<optional: Erläuterung der externen technischen Schnittstellen>**\n",
    "\n",
    "**\\<Mapping fachliche auf technische Schnittstellen>**"
   ]
  },
  {
   "cell_type": "markdown",
   "metadata": {},
   "source": [
    "# Lösungsstrategie {#section-solution-strategy}"
   ]
  },
  {
   "cell_type": "markdown",
   "metadata": {},
   "source": [
    "# Bausteinsicht {#section-building-block-view}\n",
    "\n",
    "## Whitebox Gesamtsystem {#_whitebox_gesamtsystem}\n",
    "\n",
    "***\\<Übersichtsdiagramm>***\n",
    "\n",
    "Begründung\n",
    "\n",
    ":   *\\<Erläuternder Text>*\n",
    "\n",
    "Enthaltene Bausteine\n",
    "\n",
    ":   *\\<Beschreibung der enthaltenen Bausteine (Blackboxen)>*\n",
    "\n",
    "Wichtige Schnittstellen\n",
    "\n",
    ":   *\\<Beschreibung wichtiger Schnittstellen>*\n",
    "\n",
    "### \\<Name Blackbox 1> {#__name_blackbox_1}\n",
    "\n",
    "*\\<Zweck/Verantwortung>*\n",
    "\n",
    "*\\<Schnittstelle(n)>*\n",
    "\n",
    "*\\<(Optional) Qualitäts-/Leistungsmerkmale>*\n",
    "\n",
    "*\\<(Optional) Ablageort/Datei(en)>*\n",
    "\n",
    "*\\<(Optional) Erfüllte Anforderungen>*\n",
    "\n",
    "*\\<(optional) Offene Punkte/Probleme/Risiken>*\n",
    "\n",
    "### \\<Name Blackbox 2> {#__name_blackbox_2}\n",
    "\n",
    "*\\<Blackbox-Template>*\n",
    "\n",
    "### \\<Name Blackbox n> {#__name_blackbox_n}\n",
    "\n",
    "*\\<Blackbox-Template>*\n",
    "\n",
    "### \\<Name Schnittstelle 1> {#__name_schnittstelle_1}\n",
    "\n",
    "...\n",
    "\n",
    "### \\<Name Schnittstelle m> {#__name_schnittstelle_m}\n",
    "\n",
    "## Ebene 2 {#_ebene_2}\n",
    "\n",
    "### Whitebox *\\<Baustein 1>* {#_whitebox_emphasis_baustein_1_emphasis}\n",
    "\n",
    "*\\<Whitebox-Template>*\n",
    "\n",
    "### Whitebox *\\<Baustein 2>* {#_whitebox_emphasis_baustein_2_emphasis}\n",
    "\n",
    "*\\<Whitebox-Template>*\n",
    "\n",
    "...\n",
    "\n",
    "### Whitebox *\\<Baustein m>* {#_whitebox_emphasis_baustein_m_emphasis}\n",
    "\n",
    "*\\<Whitebox-Template>*\n",
    "\n",
    "## Ebene 3 {#_ebene_3}\n",
    "\n",
    "### Whitebox \\<\\_Baustein x.1\\_\\> {#_whitebox_baustein_x_1}\n",
    "\n",
    "*\\<Whitebox-Template>*\n",
    "\n",
    "### Whitebox \\<\\_Baustein x.2\\_\\> {#_whitebox_baustein_x_2}\n",
    "\n",
    "*\\<Whitebox-Template>*\n",
    "\n",
    "### Whitebox \\<\\_Baustein y.1\\_\\> {#_whitebox_baustein_y_1}\n",
    "\n",
    "*\\<Whitebox-Template>*\n",
    "\n"
   ]
  },
  {
   "cell_type": "markdown",
   "metadata": {},
   "source": [
    "# Laufzeitsicht {#section-runtime-view}\n",
    "\n",
    "## *\\<Bezeichnung Laufzeitszenario 1>* {#__emphasis_bezeichnung_laufzeitszenario_1_emphasis}\n",
    "\n",
    "-   \\<hier Laufzeitdiagramm oder Ablaufbeschreibung einfügen>\n",
    "\n",
    "-   \\<hier Besonderheiten bei dem Zusammenspiel der Bausteine in diesem\n",
    "    Szenario erläutern>\n",
    "\n",
    "## *\\<Bezeichnung Laufzeitszenario 2>* {#__emphasis_bezeichnung_laufzeitszenario_2_emphasis}\n",
    "\n",
    "...\n",
    "\n",
    "## *\\<Bezeichnung Laufzeitszenario n>* {#__emphasis_bezeichnung_laufzeitszenario_n_emphasis}\n",
    "\n",
    "..."
   ]
  },
  {
   "cell_type": "markdown",
   "metadata": {},
   "source": [
    "# Verteilungssicht {#section-deployment-view}\n",
    "\n",
    "## Infrastruktur Ebene 1 {#_infrastruktur_ebene_1}\n",
    "\n",
    "***\\<Übersichtsdiagramm>***\n",
    "\n",
    "Begründung\n",
    "\n",
    ":   *\\<Erläuternder Text>*\n",
    "\n",
    "Qualitäts- und/oder Leistungsmerkmale\n",
    "\n",
    ":   *\\<Erläuternder Text>*\n",
    "\n",
    "Zuordnung von Bausteinen zu Infrastruktur\n",
    "\n",
    ":   *\\<Beschreibung der Zuordnung>*\n",
    "\n",
    "## Infrastruktur Ebene 2 {#_infrastruktur_ebene_2}\n",
    "\n",
    "### *\\<Infrastrukturelement 1>* {#__emphasis_infrastrukturelement_1_emphasis}\n",
    "\n",
    "*\\<Diagramm + Erläuterungen>*\n",
    "\n",
    "### *\\<Infrastrukturelement 2>* {#__emphasis_infrastrukturelement_2_emphasis}\n",
    "\n",
    "*\\<Diagramm + Erläuterungen>*\n",
    "\n",
    "...\n",
    "\n",
    "### *\\<Infrastrukturelement n>* {#__emphasis_infrastrukturelement_n_emphasis}\n",
    "\n",
    "*\\<Diagramm + Erläuterungen>*"
   ]
  },
  {
   "cell_type": "markdown",
   "metadata": {},
   "source": [
    "# Querschnittliche Konzepte {#section-concepts}\n",
    "\n",
    "## *\\<Konzept 1>* {#__emphasis_konzept_1_emphasis}\n",
    "\n",
    "*\\<Erklärung>*\n",
    "\n",
    "## *\\<Konzept 2>* {#__emphasis_konzept_2_emphasis}\n",
    "\n",
    "*\\<Erklärung>*\n",
    "\n",
    "...\n",
    "\n",
    "## *\\<Konzept n>* {#__emphasis_konzept_n_emphasis}\n",
    "\n",
    "*\\<Erklärung>*\n",
    "\n",
    "  "
   ]
  },
  {
   "cell_type": "markdown",
   "metadata": {},
   "source": [
    "# Architekturentscheidungen {#section-design-decisions}"
   ]
  },
  {
   "cell_type": "markdown",
   "metadata": {},
   "source": [
    "# Qualitätsanforderungen {#section-quality-scenarios}\n",
    "\n",
    "::: formalpara-title\n",
    "**Weiterführende Informationen**\n",
    ":::\n",
    "\n",
    "Siehe [Qualitätsanforderungen](https://docs.arc42.org/section-10/) in\n",
    "der online-Dokumentation (auf Englisch!).\n",
    "\n",
    "## Qualitätsbaum {#_qualit_tsbaum}\n",
    "\n",
    "## Qualitätsszenarien {#_qualit_tsszenarien}\n",
    "\n",
    "  "
   ]
  },
  {
   "cell_type": "markdown",
   "metadata": {},
   "source": [
    "# Risiken und technische Schulden {#section-technical-risks}"
   ]
  },
  {
   "cell_type": "markdown",
   "metadata": {},
   "source": [
    "# Glossar {#section-glossary}\n",
    "\n",
    "+-----------------------+-----------------------------------------------+\n",
    "| Begriff               | Definition                                    |\n",
    "+=======================+===============================================+\n",
    "| *\\<Begriff-1>*        | *\\<Definition-1>*                             |\n",
    "+-----------------------+-----------------------------------------------+\n",
    "| *\\<Begriff-2*         | *\\<Definition-2>*                             |\n",
    "+-----------------------+-----------------------------------------------+"
   ]
  }
 ],
 "metadata": {
  "language_info": {
   "name": "python"
  }
 },
 "nbformat": 4,
 "nbformat_minor": 2
}
