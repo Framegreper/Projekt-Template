{
 "cells": [
  {
   "cell_type": "markdown",
   "metadata": {},
   "source": [
    "Title page"
   ]
  },
  {
   "cell_type": "code",
   "execution_count": 7,
   "metadata": {
    "vscode": {
     "languageId": "latex"
    }
   },
   "outputs": [
    {
     "data": {
      "text/latex": [
       "\\vspace*{\\fill}\n",
       "\\noindent\n",
       "$\\textit{\n",
       "I, AUTHORNAME confirm that the work presented in this thesis is my own. Where information has been derived from other sources, I confirm that this has been indicated in the thesis.\n",
       "}\n",
       "\\vspace*{\\fill}\n",
       "\\pagenumbering{gobble}$\n"
      ],
      "text/plain": [
       "<IPython.core.display.Latex object>"
      ]
     },
     "metadata": {},
     "output_type": "display_data"
    }
   ],
   "source": [
    "%%latex\n",
    "\\vspace*{\\fill}\n",
    "\\noindent\n",
    "\\textit{\n",
    "I, AUTHORNAME confirm that the work presented in this thesis is my own. Where information has been derived from other sources, I confirm that this has been indicated in the thesis.\n",
    "}\n",
    "\\vspace*{\\fill}\n",
    "\\pagenumbering{gobble}"
   ]
  },
  {
   "cell_type": "markdown",
   "metadata": {},
   "source": [
    "# Abstract {.unnumbered}\n",
    "\n",
    "<!-- This is the abstract -->\n",
    "\n",
    "Lorem ipsum dolor sit amet, consectetur adipiscing elit. Nam et turpis gravida, lacinia ante sit amet, sollicitudin erat. Aliquam efficitur vehicula leo sed condimentum. Phasellus lobortis eros vitae rutrum egestas. Vestibulum ante ipsum primis in faucibus orci luctus et ultrices posuere cubilia Curae; Donec at urna imperdiet, vulputate orci eu, sollicitudin leo. Donec nec dui sagittis, malesuada erat eget, vulputate tellus. Nam ullamcorper efficitur iaculis. Mauris eu vehicula nibh. In lectus turpis, tempor at felis a, egestas fermentum massa.\n",
    "\n",
    "\\pagenumbering{roman}\n",
    "\\setcounter{page}{1}"
   ]
  },
  {
   "cell_type": "markdown",
   "metadata": {},
   "source": [
    "# Acknowledgements {.unnumbered}\n",
    "\n",
    "<!-- This is for acknowledging all of the people who helped out -->\n",
    "\n",
    "Interdum et malesuada fames ac ante ipsum primis in faucibus. Aliquam congue fermentum ante, semper porta nisl consectetur ut. Duis ornare sit amet dui ac faucibus. Phasellus ullamcorper leo vitae arcu ultricies cursus. Duis tristique lacus eget metus bibendum, at dapibus ante malesuada. In dictum nulla nec porta varius. Fusce et elit eget sapien fringilla maximus in sit amet dui.\n",
    "\n",
    "Mauris eget blandit nisi, faucibus imperdiet odio. Suspendisse blandit dolor sed tellus venenatis, venenatis fringilla turpis pretium. Donec pharetra arcu vitae euismod tincidunt. Morbi ut turpis volutpat, ultrices felis non, finibus justo. Proin convallis accumsan sem ac vulputate. Sed rhoncus ipsum eu urna placerat, sed rhoncus erat facilisis. Praesent vitae vestibulum dui. Proin interdum tellus ac velit varius, sed finibus turpis placerat.\n",
    "\n",
    "<!-- Use the \\newpage command to force a new page -->\n",
    "\n",
    "\\newpage"
   ]
  },
  {
   "cell_type": "markdown",
   "metadata": {},
   "source": [
    "\\pagenumbering{gobble}\n",
    "\n",
    "\\tableofcontents\n",
    "\n",
    "\\newpage"
   ]
  },
  {
   "cell_type": "markdown",
   "metadata": {},
   "source": [
    "\\listoffigures\n",
    "<!--\n",
    "The \\listoffigures will use short captions first, and the whole caption if none is present. To keep this list readable, ensure each figure has a short caption, e.g.\n",
    "![main_text_caption](source/figures/my_image.pdf ){#fig:mylabel}{ width=50% short-caption=\"short caption\"}\n",
    "\n",
    "See chapter 4 for more examples.\n",
    "-->\n",
    "\\newpage"
   ]
  },
  {
   "cell_type": "markdown",
   "metadata": {},
   "source": [
    "\\listoftables\n",
    "\n",
    "\\newpage\n",
    "\n",
    "<!--\n",
    "The \\listoftables will use short captions first, and the whole caption if none is present. To keep this list readable, ensure each figure has a short caption, e.g.\n",
    "\n",
    "+----------+----------+----------+\n",
    "|   Test   |  Test2   |  Test3   |\n",
    "+----------+----------+----------+\n",
    "|    20    |    22    |    23    |\n",
    "+----------+----------+----------+\n",
    "|    34    |    35    |    36    |\n",
    "+----------+----------+----------+\n",
    ":  Long caption []{#tbl:tbl_ref short-caption=\"short caption\"}\n",
    "\n",
    "You MUST include the empty square brackets before the curly brackets.\n",
    "\n",
    "See chapter 5 for more examples.\n",
    "-->"
   ]
  },
  {
   "cell_type": "markdown",
   "metadata": {},
   "source": [
    "\n",
    "# Abbreviations {.unnumbered}\n",
    "\n",
    "\\begin{tabbing}\n",
    "\\textbf{API}~~~~~~~~~~~~ \\= \\textbf{A}pplication \\textbf{P}rogramming \\textbf{I}nterface \\\\  \n",
    "\\textbf{JSON} \\> \\textbf{J}ava\\textbf{S}cript \\textbf{O}bject \\textbf{N}otation \\\\  \n",
    "\\end{tabbing}\n",
    "\n",
    "\\newpage\n"
   ]
  },
  {
   "cell_type": "markdown",
   "metadata": {},
   "source": [
    "\\setcounter{page}{1}\n",
    "\\pagenumbering{arabic}\n",
    "\\doublespacing\n",
    "\\setlength{\\parindent}{0.5in}\n",
    "\n",
    "# Introduction, with a citation {#sec:intro}\n",
    "\n",
    "## Background\n",
    "\n",
    "This is the introduction. Quisque finibus aliquet cursus. Integer in pellentesque tellus. Duis eu dignissim nulla, a porttitor enim. Quisque vehicula leo non ultrices finibus. Duis vehicula quis sem sit amet sollicitudin. Integer neque est, pharetra et auctor vel, iaculis interdum lectus.\n",
    "\n",
    "<!-- \n",
    "To include a reference, add the citation key shown in the references.bib file.\n",
    "-->\n",
    "\n",
    "To include a citation to the text, just add the citation key shown in the references.bib file. The style of the citation is determined by the ref_format.csl file. For example, in The Living Sea you can find pictures of the Calypso [@Cousteau1963].\n",
    "\n",
    "In neque mauris, maximus at sapien a, iaculis dignissim justo. Aliquam erat volutpat. Praesent varius risus auctor est ultricies, sit amet consequat nisi laoreet. Suspendisse non est et mauris pharetra sagittis non porta justo. Praesent malesuada metus ut sapien sodales ornare.\n",
    "\n",
    "## The middle bit\n",
    "\n",
    "This is the middle bit. Phasellus quis ex in ipsum pellentesque lobortis tincidunt sed massa. Nullam euismod sem quis dictum condimentum. Suspendisse risus metus, elementum eu congue quis, viverra ac metus. Donec non lectus at lectus euismod laoreet pharetra semper dui. Donec sed eleifend erat, vel ultrices nibh. Nam scelerisque turpis ac nunc mollis, et rutrum nisl luctus.\n",
    "\n",
    "Duis faucibus vestibulum elit, sit amet lobortis libero. Class aptent taciti sociosqu ad litora torquent per conubia nostra, per inceptos himenaeos. Sed at cursus nibh. Sed accumsan imperdiet interdum. Proin id facilisis tortor. Proin posuere a neque nec iaculis. Suspendisse potenti. Nullam hendrerit ante mi, vitae iaculis dui laoreet eu.\n",
    "\n",
    "Cras eleifend velit diam, eu viverra mi volutpat ut. Cum sociis natoque penatibus et magnis dis parturient montes, nascetur ridiculus mus. Donec finibus leo nec dui imperdiet, tincidunt ornare orci venenatis. Maecenas placerat efficitur est, eu blandit magna hendrerit eu.\n",
    "\n",
    "### Subsection of the middle bit\n",
    "\n",
    "This is a subsection of the middle bit. Quisque sit amet tempus arcu, ac suscipit ante. Cras massa elit, pellentesque eget nisl ut, malesuada rutrum risus. Nunc in venenatis mi. Curabitur sit amet suscipit eros, non tincidunt nibh. Phasellus lorem lectus, iaculis non luctus eget, tempus non risus. Suspendisse ut felis mi.\n",
    "\n",
    "## Summary of chapters\n",
    "\n",
    "<!--\n",
    "For italic, add _ on either side of the text\n",
    "For bold, add ** on either side of the text\n",
    "For bold and italic, add _** on either side of the text\n",
    "-->\n",
    "\n",
    "This is a brief outline of what went into each chapter, and a section which shows how to reference headers (which are labelled automatically for you). This chapter, @sec:intro, shows how to use citations and how to reference section headers. @sec:lit-review shows how use and reference equations. @sec:research-code shows how to use and reference code. @sec:research-figure shows how to use, reference, and resize pdf and jpg figures. @sec:research-table shows how to use and reference tables. @sec:research-final is truly revolutionary (but shows nothing functional). **[Appendix 1](#appendix-1-some-extra-stuff)** shows how to add chapters which are not numbered, and has to be referenced manually, as does **[Appendix 2](#appendix-2-some-more-extra-stuff)**. See the base [`README.md`](https://github.com/tompollard/phd_thesis_markdown/blob/master/README.md) for how References are handled - leave `*_references.md` alone, and provide it to `pandoc` last.\n",
    "\n",
    "Proin faucibus nibh sit amet augue blandit varius."
   ]
  },
  {
   "cell_type": "markdown",
   "metadata": {},
   "source": [
    "# Conclusion {#sec:conclusion}\n",
    "\n",
    "<!-- \n",
    "A chapter that concludes the thesis by summarising the learning points\n",
    "and outlining future areas for research\n",
    "-->\n",
    "\n",
    "## Thesis summary\n",
    "\n",
    "In summary, pellentesque habitant morbi tristique senectus et netus et malesuada fames ac turpis egestas. Nunc eleifend, ex a luctus porttitor, felis ex suscipit tellus, ut sollicitudin sapien purus in libero. Nulla blandit eget urna vel tempus. Praesent fringilla dui sapien, sit amet egestas leo sollicitudin at.\n",
    "\n",
    "## Future work\n",
    "\n",
    "There are several potential directions for extending this thesis. Lorem ipsum dolor sit amet, consectetur adipiscing elit. Aliquam gravida ipsum at tempor tincidunt. Aliquam ligula nisl, blandit et dui eu, eleifend tempus nibh. Nullam eleifend sapien eget ante hendrerit commodo. Pellentesque pharetra erat sit amet dapibus scelerisque.\n",
    "\n",
    "Vestibulum suscipit tellus risus, faucibus vulputate orci lobortis eget. Nunc varius sem nisi. Nunc tempor magna sapien, euismod blandit elit pharetra sed. In dapibus magna convallis lectus sodales, a consequat sem euismod. Curabitur in interdum purus. Integer ultrices laoreet aliquet. Nulla vel dapibus urna. Nunc efficitur erat ac nisi auctor sodales."
   ]
  },
  {
   "cell_type": "markdown",
   "metadata": {},
   "source": [
    "# Appendix 1: Some extra stuff {.unnumbered}\n",
    "\n",
    "<!-- \n",
    "This could be a list of papers by the author for example \n",
    "-->\n",
    "\n",
    "Add appendix 1 here. Vivamus hendrerit rhoncus interdum. Sed ullamcorper et augue at porta. Suspendisse facilisis imperdiet urna, eu pellentesque purus suscipit in. Integer dignissim mattis ex aliquam blandit. Curabitur lobortis quam varius turpis ultrices egestas."
   ]
  },
  {
   "cell_type": "markdown",
   "metadata": {},
   "source": [
    "\\footnotesize\n",
    "\\singlespacing\n",
    "\\setlength{\\parindent}{0in}\n",
    "\n",
    "<!-- \n",
    "Do not edit this page.\n",
    "\n",
    "References are automatically generated from the BibTex file (References.bib)\n",
    "\n",
    "...which you should create using your reference manager.\n",
    "-->\n",
    "\n",
    "# References"
   ]
  }
 ],
 "metadata": {
  "kernelspec": {
   "display_name": "Python 3",
   "language": "python",
   "name": "python3"
  },
  "language_info": {
   "codemirror_mode": {
    "name": "ipython",
    "version": 3
   },
   "file_extension": ".py",
   "mimetype": "text/x-python",
   "name": "python",
   "nbconvert_exporter": "python",
   "pygments_lexer": "ipython3",
   "version": "3.12.2"
  }
 },
 "nbformat": 4,
 "nbformat_minor": 2
}
